{
 "cells": [
  {
   "cell_type": "code",
   "execution_count": 2,
   "metadata": {
    "collapsed": false
   },
   "outputs": [
    {
     "name": "stdout",
     "output_type": "stream",
     "text": [
      "Populating the interactive namespace from numpy and matplotlib\n"
     ]
    }
   ],
   "source": [
    "%pylab inline\n",
    "from astropy.io import fits as pyfits\n",
    "from datetime import datetime\n",
    "import numpy as np\n",
    "import matplotlib.pyplot as plt\n",
    "import matplotlib.gridspec as gridspec\n",
    "from astropy.io import fits\n",
    "from astropy.table import Table,Column\n",
    "import scipy.stats.distributions as dist\n",
    "\n",
    "import os\n",
    "import warnings\n",
    "import requests\n",
    "\n",
    "mpl.rcParams['text.usetex']=True\n",
    "mpl.rcParams['axes.linewidth'] = 3\n",
    "\n",
    "warnings.filterwarnings('ignore', category=RuntimeWarning, append=True)\n",
    "warnings.filterwarnings('ignore', category=UserWarning, append=True);"
   ]
  },
  {
   "cell_type": "code",
   "execution_count": 3,
   "metadata": {
    "collapsed": true
   },
   "outputs": [],
   "source": [
    "# Load data from Dropbox folder instead of clogging up Github\n",
    "\n",
    "def download_from_dropbox(url):\n",
    "    \n",
    "    local_filename = \"../{:}\".format(url.split(\"/\")[-1].split(\"?\")[0])\n",
    "    r = requests.get(url, stream=True)\n",
    "    with open(local_filename, 'wb') as f:\n",
    "        for chunk in r.iter_content(chunk_size=1024): \n",
    "            if chunk: # filter out keep-alive new chunks\n",
    "                f.write(chunk)\n",
    "                f.flush()\n",
    "            \n",
    "    return local_filename\n"
   ]
  },
  {
   "cell_type": "code",
   "execution_count": 4,
   "metadata": {
    "collapsed": true
   },
   "outputs": [],
   "source": [
    "#Load Data!\n",
    "ferengi_filename = download_from_dropbox(\"https://www.dropbox.com/s/2dsnro4r5sa48gb/ferengi_all_weighted_and_meta.fits?dl=1\")\n",
    "data = Table.read(ferengi_filename) "
   ]
  },
  {
   "cell_type": "code",
   "execution_count": 5,
   "metadata": {
    "collapsed": false
   },
   "outputs": [
    {
     "name": "stdout",
     "output_type": "stream",
     "text": [
      "The number of galaxies in COSMOS between $0.2 < z < 1.0$ is 52732\n",
      "The number of red galaxies: 10117\n",
      "The number of blue galaxies: 42614\n"
     ]
    }
   ],
   "source": [
    "#Hubble Data:\n",
    "hubble_data = pyfits.open('/home/mel/Documents/GZ_HUBBLE/other_catalogs/ULTRAVISTA/matched_catalog_12_04_15.fits')\n",
    "hubble_data=hubble_data[1].data\n",
    "z='Z_BEST_COMBINED'\n",
    "data_2_1 = (hubble_data[z]>=.2) & (hubble_data[z]<=1) \n",
    "print 'The number of galaxies in COSMOS between $0.2 < z < 1.0$ is %s'%len(hubble_data[data_2_1])\n",
    "\n",
    "#red_sequence = (hubble_data[z]>=0.2) & (hubble_data[z]<=1) & (hubble_data['MNUV']-hubble_data['MR']>(2.7-.077*hubble_data['MR'])) \n",
    "#blue_cloud = (hubble_data[z]>=0.2) & (hubble_data[z]<=1) & (hubble_data['MNUV']-hubble_data['MR']<(1.9-.077*hubble_data['MR'])) \n",
    "\n",
    "red_sequence = (hubble_data[z]>=0.2) & (hubble_data[z]<=1) & (hubble_data['MNUV']-hubble_data['MR']>3*(hubble_data['MR']-hubble_data['MJ'])+1) & (hubble_data['MNUV']-hubble_data['MR']>3) \n",
    "blue_cloud = (hubble_data[z]>=0.2) & (hubble_data[z]<=1) & ((hubble_data['MNUV']-hubble_data['MR']<3*(hubble_data['MR']-hubble_data['MJ'])+1) | (hubble_data['MNUV']-hubble_data['MR']<3)) \n",
    "\n",
    "\n",
    "print 'The number of red galaxies: %s'%len(hubble_data[red_sequence])\n",
    "print 'The number of blue galaxies: %s'%len(hubble_data[blue_cloud])\n"
   ]
  },
  {
   "cell_type": "code",
   "execution_count": 6,
   "metadata": {
    "collapsed": true
   },
   "outputs": [],
   "source": [
    "yedges=np.linspace(np.min(data['mu_max_i']),np.max(data['mu_max_i']),7)\n",
    "yedges=[round(y,2) for y in yedges]\n",
    "\n",
    "xedges=np.linspace(np.min(data['sim_redshift'])-.05,np.max(data['sim_redshift'])+.05,5)\n",
    "xedges=[round(x,2) for x in xedges]\n",
    "\n",
    "#p_x = 't00_smooth_or_features_a1_features_frac_weighted_2' #p for question in question (lol)\n",
    "p_x = 'p_features_best'\n",
    "N_x = 't00_smooth_or_features_count_weighted_2' #N for question in question (number of people who answered question) \n",
    "N_cut = 0 #number of people we require to get to question\n",
    "\n",
    "red_data = data[(data['PETROMAG_U']-data['PETROMAG_R']<2)]\n",
    "blue_data=data[(data['PETROMAG_U']-data['PETROMAG_R']>=2)]\n",
    "\n",
    "#Pick out unique galaxies\n",
    "galaxies = set(data['objid'])\n",
    "red_galaxies = set(red_data['objid'])\n",
    "blue_galaxies = set(blue_data['objid'])"
   ]
  },
  {
   "cell_type": "code",
   "execution_count": 7,
   "metadata": {
    "collapsed": true
   },
   "outputs": [],
   "source": [
    "red_scatter_dct={}\n",
    "for i in range(0,len(xedges)-1):\n",
    "    for j in range(0,len(yedges)-1):\n",
    "        red_scatter_dct[xedges[i],xedges[i+1],yedges[j],yedges[j+1],'hi']=[]\n",
    "        red_scatter_dct[xedges[i],xedges[i+1],yedges[j],yedges[j+1],'lo']=[]\n",
    "        red_scatter_dct[xedges[i],xedges[i+1],yedges[j],yedges[j+1],'subj_id']=[]\n",
    "        \n",
    "red_scatter_dct_unc={}\n",
    "for i in range(0,len(xedges)-1):\n",
    "    for j in range(0,len(yedges)-1):\n",
    "        red_scatter_dct_unc[xedges[i],xedges[i+1],yedges[j],yedges[j+1],'hi']=[]\n",
    "        red_scatter_dct_unc[xedges[i],xedges[i+1],yedges[j],yedges[j+1],'lo']=[]\n",
    "        red_scatter_dct_unc[xedges[i],xedges[i+1],yedges[j],yedges[j+1],'subj_id']=[]\n",
    "\n",
    "blue_scatter_dct={}\n",
    "for i in range(0,len(xedges)-1):\n",
    "    for j in range(0,len(yedges)-1):\n",
    "        blue_scatter_dct[xedges[i],xedges[i+1],yedges[j],yedges[j+1],'hi']=[]\n",
    "        blue_scatter_dct[xedges[i],xedges[i+1],yedges[j],yedges[j+1],'lo']=[]\n",
    "        blue_scatter_dct[xedges[i],xedges[i+1],yedges[j],yedges[j+1],'subj_id']=[]\n",
    "\n",
    "all_scatter_dct={}\n",
    "for i in range(0,len(xedges)-1):\n",
    "    for j in range(0,len(yedges)-1):\n",
    "        all_scatter_dct[xedges[i],xedges[i+1],yedges[j],yedges[j+1],'hi']=[]\n",
    "        all_scatter_dct[xedges[i],xedges[i+1],yedges[j],yedges[j+1],'lo']=[]\n",
    "        all_scatter_dct[xedges[i],xedges[i+1],yedges[j],yedges[j+1],'subj_id']=[]\n",
    "\n",
    "all_scatter_dct_unc={}\n",
    "for i in range(0,len(xedges)-1):\n",
    "    for j in range(0,len(yedges)-1):\n",
    "        all_scatter_dct_unc[xedges[i],xedges[i+1],yedges[j],yedges[j+1],'hi']=[]\n",
    "        all_scatter_dct_unc[xedges[i],xedges[i+1],yedges[j],yedges[j+1],'lo']=[]\n",
    "        all_scatter_dct_unc[xedges[i],xedges[i+1],yedges[j],yedges[j+1],'subj_id']=[]\n",
    "\n",
    "red_fractions_dct={}\n"
   ]
  },
  {
   "cell_type": "code",
   "execution_count": 8,
   "metadata": {
    "collapsed": true
   },
   "outputs": [],
   "source": [
    "p_x = 'p_features_best'\n",
    "\n",
    "\n",
    "for i,g in enumerate(red_galaxies):\n",
    "    this_gal=(red_data['objid']==g)\n",
    "    evos = set(red_data[this_gal]['sim_evolution'])\n",
    "    for e in evos:\n",
    "        this_evo=(red_data[this_gal]['sim_evolution']==e)\n",
    "        if round(np.min(list((set(red_data[this_gal][this_evo]['sim_redshift'])))),2)==0.3: #only want stuff where we have data down to 0.3\n",
    "            p_at_3=(red_data[this_gal][this_evo]['sim_redshift']==.3)\n",
    "            p_x_at_3 = red_data[this_gal][this_evo][p_at_3][p_x][0]#value of p_x at redshift 0.3\n",
    "            n_x_at_3 = red_data[this_gal][this_evo][p_at_3][N_x][0] #number of people who answeredquestion for the 0.3 image\n",
    "            if n_x_at_3 >= N_cut: #only care about galaxies with at least N people answering question at 0.3\n",
    "                for row in red_data[this_gal][this_evo]:\n",
    "                    for y in range(0,len(yedges)-1):\n",
    "                        for x in range(0,len(xedges)-1):\n",
    "                            if row['sim_redshift']>xedges[x] and row['sim_redshift'] < xedges[x+1] and row['mu_max_i'] > yedges[y] and row['mu_max_i'] < yedges[y+1] and row[N_x]>=N_cut: #now look at high redshift data ; only care if 5 people answerwed question\n",
    "                                if row['Correctable_Category']=='correctable  ':\n",
    "                                    red_scatter_dct[xedges[x],xedges[x+1],yedges[y],yedges[y+1],'hi'].append(row[p_x]) # slap p_x in high list \n",
    "                                    red_scatter_dct[xedges[x],xedges[x+1],yedges[y],yedges[y+1],'lo'].append(p_x_at_3) # put z=0.3 value in low list \n",
    "                                else:\n",
    "                                    red_scatter_dct_unc[xedges[x],xedges[x+1],yedges[y],yedges[y+1],'hi'].append(row[p_x]) # slap p_x in high list \n",
    "                                    red_scatter_dct_unc[xedges[x],xedges[x+1],yedges[y],yedges[y+1],'lo'].append(p_x_at_3) # put z=0.3 value in low list \n",
    "\n",
    "                                \n",
    "for i,g in enumerate(galaxies):\n",
    "    this_gal=(data['objid']==g)\n",
    "    evos = set(data[this_gal]['sim_evolution'])\n",
    "    for e in evos:\n",
    "        this_evo=(data[this_gal]['sim_evolution']==e)\n",
    "        if round(np.min(list((set(data[this_gal][this_evo]['sim_redshift'])))),2)==0.3: #only want stuff where we have data down to 0.3\n",
    "            p_at_3=(data[this_gal][this_evo]['sim_redshift']==.3)\n",
    "            p_x_at_3 = data[this_gal][this_evo][p_at_3][p_x][0]#value of p_x at redshift 0.3\n",
    "            n_x_at_3 = data[this_gal][this_evo][p_at_3][N_x][0] #number of people who answeredquestion for the 0.3 image\n",
    "            if n_x_at_3 >= N_cut: #only care about galaxies with at least N people answering question at 0.3\n",
    "                for row in data[this_gal][this_evo]:\n",
    "                    for y in range(0,len(yedges)-1):\n",
    "                        for x in range(0,len(xedges)-1):\n",
    "                            if row['sim_redshift']>xedges[x] and row['sim_redshift'] < xedges[x+1] and row['mu_max_i'] > yedges[y] and row['mu_max_i'] < yedges[y+1] and row[N_x]>=N_cut: #now look at high redshift data ; only care if 5 people answerwed question\n",
    "                                if row['Correctable_Category']=='correctable  ':\n",
    "                                    all_scatter_dct[xedges[x],xedges[x+1],yedges[y],yedges[y+1],'hi'].append(row[p_x]) # slap p_x in high list \n",
    "                                    all_scatter_dct[xedges[x],xedges[x+1],yedges[y],yedges[y+1],'lo'].append(p_x_at_3) # put z=0.3 value in low list \n",
    "                                else:\n",
    "                                    all_scatter_dct_unc[xedges[x],xedges[x+1],yedges[y],yedges[y+1],'hi'].append(row[p_x]) # slap p_x in high list \n",
    "                                    all_scatter_dct_unc[xedges[x],xedges[x+1],yedges[y],yedges[y+1],'lo'].append(p_x_at_3) # put z=0.3 value in low list \n"
   ]
  },
  {
   "cell_type": "code",
   "execution_count": 49,
   "metadata": {
    "collapsed": false
   },
   "outputs": [
    {
     "data": {
      "text/plain": [
       "(0, 1)"
      ]
     },
     "execution_count": 49,
     "metadata": {},
     "output_type": "execute_result"
    },
    {
     "data": {
      "image/png": "[encoded data removed]",
      "text/plain": [
       "<matplotlib.figure.Figure at 0x7f97f43eed90>"
      ]
     },
     "metadata": {},
     "output_type": "display_data"
    }
   ],
   "source": [
    "## Check out where p_features is affected by surface brightness \n",
    "#plt.hist(hubble_data['MU_HI'],range=(17,28))\n",
    "p='t01_smooth_or_features_a02_features_or_disk_weighted_fraction'\n",
    "z_range = (hubble_data[z]>.2) & (hubble_data[z]<1)\n",
    "sb_edges=np.linspace(18,28,11)\n",
    "sb_width = (sb_edges[1]-sb_edges[0])/2.\n",
    "sb_centers = [edge+sb_width for edge in sb_edges]\n",
    "sb_centers.remove(sb_centers[-1])\n",
    "p_list=[]\n",
    "yerr_lo=[]\n",
    "yerr_hi=[]\n",
    "for i in range(0,10):\n",
    "    this_sb_data = z_range & (hubble_data['MU_HI']>sb_edges[i]) & (hubble_data['MU_HI'] < sb_edges[i+1])\n",
    "    p_features_dist=hubble_data[this_sb_data][p]\n",
    "    p_list.append(np.nanmean(p_features_dist))\n",
    "    yerr_lo.append(np.nanstd(p_features_dist))\n",
    "    yerr_hi.append(np.nanstd(p_features_dist))\n",
    "plt.errorbar(sb_centers,p_list,yerr=(yerr_lo,yerr_hi))\n",
    "plt.ylim(0,1)"
   ]
  },
  {
   "cell_type": "code",
   "execution_count": 66,
   "metadata": {
    "collapsed": false
   },
   "outputs": [
    {
     "data": {
      "text/plain": [
       "(0, 1)"
      ]
     },
     "execution_count": 66,
     "metadata": {},
     "output_type": "execute_result"
    },
    {
     "data": {
      "image/png": "[encoded data removed]",
      "text/plain": [
       "<matplotlib.figure.Figure at 0x7f97f445dd10>"
      ]
     },
     "metadata": {},
     "output_type": "display_data"
    }
   ],
   "source": [
    "## Check out where p_features is affected by surface brightness \n",
    "#plt.hist(hubble_data['MU_HI'],range=(17,28))\n",
    "p='t01_smooth_or_features_a02_features_or_disk_weighted_fraction'\n",
    "z_range = (hubble_data[z]>.2) & (hubble_data[z]<1)\n",
    "sb_edges=np.linspace(-27,-15,11)\n",
    "sb_width = (sb_edges[1]-sb_edges[0])/2.\n",
    "sb_centers = [edge+sb_width for edge in sb_edges]\n",
    "sb_centers.remove(sb_centers[-1])\n",
    "p_list=[]\n",
    "yerr_lo=[]\n",
    "yerr_hi=[]\n",
    "for i in range(0,10):\n",
    "    this_sb_data = z_range & (hubble_data['MR']>sb_edges[i]) & (hubble_data['MR'] < sb_edges[i+1])\n",
    "    p_features_dist=hubble_data[this_sb_data][p]\n",
    "    p_list.append(np.nanmean(p_features_dist))\n",
    "    yerr_lo.append(np.nanstd(p_features_dist))\n",
    "    yerr_hi.append(np.nanstd(p_features_dist))\n",
    "plt.errorbar(sb_centers,p_list,yerr=(yerr_lo,yerr_hi))\n",
    "plt.ylim(0,1)"
   ]
  },
  {
   "cell_type": "code",
   "execution_count": 437,
   "metadata": {
    "collapsed": false
   },
   "outputs": [
    {
     "data": {
      "image/png": "[encoded data removed]",
      "text/plain": [
       "<matplotlib.figure.Figure at 0x7f05c4c33390>"
      ]
     },
     "metadata": {},
     "output_type": "display_data"
    }
   ],
   "source": [
    "\n",
    "\n",
    "fig=figure(figsize=(20,15))\n",
    "gs=gridspec.GridSpec(2,4)\n",
    "gs.update(wspace=0)\n",
    "gs.update(hspace=0)\n",
    "\n",
    "\n",
    "ax1 = plt.subplot(gs[0,0])\n",
    "\n",
    "dc=.5\n",
    "sb=21.5\n",
    "\n",
    "plt.errorbar(reds,red_fractions_dct[dc,sb][0]['fraction'],yerr=(red_fractions_dct[dc,sb][0]['err_lo'],red_fractions_dct[dc,sb][0]['err_hi']),c='b',fmt='--o',lw=3,ms=5,label='uncorrected')\n",
    "plt.errorbar(reds,red_fractions_dct[dc,sb][0]['fraction_corrected'],yerr=(red_fractions_dct[dc,sb][0]['err_lo_corrected'],red_fractions_dct[dc,sb][0]['err_hi_corrected']),c='r',fmt='--o',lw=3,ms=5,label='corrected')\n",
    "plt.ylabel('$\\mathrm{red~disks/all~disks~MU~HI<%s}$'%sb,fontsize=25)\n",
    "plt.tick_params(labelbottom='off')\n",
    "plt.title('$\\mathrm{p_{features}>.5}$',fontsize=30)\n",
    "plt.xlim(.2,1)\n",
    "plt.ylim(0,.5)\n",
    "\n",
    "plt.subplot(gs[0,1],sharey=ax1)\n",
    "\n",
    "dc=.6\n",
    "sb=21.5\n",
    "\n",
    "plt.errorbar(reds,red_fractions_dct[dc,sb][0]['fraction'],yerr=(red_fractions_dct[dc,sb][0]['err_lo'],red_fractions_dct[dc,sb][0]['err_hi']),c='b',fmt='--o',lw=3,ms=5,label='uncorrected')\n",
    "plt.errorbar(reds,red_fractions_dct[dc,sb][0]['fraction_corrected'],yerr=(red_fractions_dct[dc,sb][0]['err_lo_corrected'],red_fractions_dct[dc,sb][0]['err_hi_corrected']),c='r',fmt='--o',lw=3,ms=5,label='corrected')\n",
    "plt.tick_params(labelleft='off',labelbottom='off')\n",
    "plt.title('$\\mathrm{p_{features}>.6}$',fontsize=30)\n",
    "plt.xlim(.2,1)\n",
    "plt.ylim(0,.5)\n",
    "\n",
    "plt.subplot(gs[0,2],sharey=ax1)\n",
    "\n",
    "dc=.7\n",
    "sb=21.5\n",
    "\n",
    "plt.errorbar(reds,red_fractions_dct[dc,sb][0]['fraction'],yerr=(red_fractions_dct[dc,sb][0]['err_lo'],red_fractions_dct[dc,sb][0]['err_hi']),c='b',fmt='--o',lw=3,ms=5,label='uncorrected')\n",
    "plt.errorbar(reds,red_fractions_dct[dc,sb][0]['fraction_corrected'],yerr=(red_fractions_dct[dc,sb][0]['err_lo_corrected'],red_fractions_dct[dc,sb][0]['err_hi_corrected']),c='r',fmt='--o',lw=3,ms=5,label='corrected')\n",
    "plt.tick_params(labelleft='off',labelbottom='off')\n",
    "plt.title('$\\mathrm{p_{features}>.7}$',fontsize=30)\n",
    "plt.xlim(.2,1)\n",
    "plt.ylim(0,.5)\n",
    "\n",
    "\n",
    "plt.subplot(gs[0,3],sharey=ax1)\n",
    "\n",
    "dc=.8\n",
    "sb=21.5\n",
    "\n",
    "plt.errorbar(reds,red_fractions_dct[dc,sb][0]['fraction'],yerr=(red_fractions_dct[dc,sb][0]['err_lo'],red_fractions_dct[dc,sb][0]['err_hi']),c='b',fmt='--o',lw=3,ms=5,label='uncorrected')\n",
    "plt.errorbar(reds,red_fractions_dct[dc,sb][0]['fraction_corrected'],yerr=(red_fractions_dct[dc,sb][0]['err_lo_corrected'],red_fractions_dct[dc,sb][0]['err_hi_corrected']),c='r',fmt='--o',lw=3,ms=5,label='corrected')\n",
    "plt.tick_params(labelleft='off',labelbottom='off')\n",
    "plt.title('$\\mathrm{p_{features}>.8}$',fontsize=30)\n",
    "plt.xlim(.2,1)\n",
    "plt.ylim(0,.5)\n",
    "\n",
    "\n",
    "\n",
    "ax2 = plt.subplot(gs[1,0])\n",
    "\n",
    "dc=.5\n",
    "sb=30\n",
    "\n",
    "plt.errorbar(reds,red_fractions_dct[dc,sb][0]['fraction'],yerr=(red_fractions_dct[dc,sb][0]['err_lo'],red_fractions_dct[dc,sb][0]['err_hi']),c='b',fmt='--o',lw=3,ms=5,label='uncorrected')\n",
    "plt.errorbar(reds,red_fractions_dct[dc,sb][0]['fraction_corrected'],yerr=(red_fractions_dct[dc,sb][0]['err_lo_corrected'],red_fractions_dct[dc,sb][0]['err_hi_corrected']),c='r',fmt='--o',lw=3,ms=5,label='corrected')\n",
    "plt.xlabel('$\\mathrm{redshift}$',fontsize=30)\n",
    "plt.ylabel('$\\mathrm{red~disks/all~disks}$',fontsize=25)\n",
    "plt.xlim(.2,1)\n",
    "plt.ylim(0,.5)\n",
    "\n",
    "plt.subplot(gs[1,1],sharey=ax2)\n",
    "\n",
    "dc=.6\n",
    "sb=30\n",
    "\n",
    "plt.errorbar(reds,red_fractions_dct[dc,sb][0]['fraction'],yerr=(red_fractions_dct[dc,sb][0]['err_lo'],red_fractions_dct[dc,sb][0]['err_hi']),c='b',fmt='--o',lw=3,ms=5,label='uncorrected')\n",
    "plt.errorbar(reds,red_fractions_dct[dc,sb][0]['fraction_corrected'],yerr=(red_fractions_dct[dc,sb][0]['err_lo_corrected'],red_fractions_dct[dc,sb][0]['err_hi_corrected']),c='r',fmt='--o',lw=3,ms=5,label='corrected')\n",
    "plt.xlabel('$\\mathrm{redshift}$',fontsize=30)\n",
    "plt.tick_params(labelleft='off')\n",
    "plt.xlim(.2,1)\n",
    "plt.ylim(0,.5)\n",
    "\n",
    "\n",
    "plt.subplot(gs[1,2],sharey=ax2)\n",
    "\n",
    "dc=.7\n",
    "sb=30\n",
    "\n",
    "plt.errorbar(reds,red_fractions_dct[dc,sb][0]['fraction'],yerr=(red_fractions_dct[dc,sb][0]['err_lo'],red_fractions_dct[dc,sb][0]['err_hi']),c='b',fmt='--o',lw=3,ms=5,label='uncorrected')\n",
    "plt.errorbar(reds,red_fractions_dct[dc,sb][0]['fraction_corrected'],yerr=(red_fractions_dct[dc,sb][0]['err_lo_corrected'],red_fractions_dct[dc,sb][0]['err_hi_corrected']),c='r',fmt='--o',lw=3,ms=5,label='corrected')\n",
    "plt.xlabel('$\\mathrm{redshift}$',fontsize=30)\n",
    "plt.tick_params(labelleft='off')\n",
    "plt.xlim(.2,1)\n",
    "plt.ylim(0,.5)\n",
    "\n",
    "\n",
    "plt.subplot(gs[1,3],sharey=ax2)\n",
    "\n",
    "dc=.8\n",
    "sb=30\n",
    "\n",
    "plt.errorbar(reds,red_fractions_dct[dc,sb][0]['fraction'],yerr=(red_fractions_dct[dc,sb][0]['err_lo'],red_fractions_dct[dc,sb][0]['err_hi']),c='b',fmt='--o',lw=3,ms=5,label='uncorrected')\n",
    "plt.errorbar(reds,red_fractions_dct[dc,sb][0]['fraction_corrected'],yerr=(red_fractions_dct[dc,sb][0]['err_lo_corrected'],red_fractions_dct[dc,sb][0]['err_hi_corrected']),c='r',fmt='--o',lw=3,ms=5,label='corrected')\n",
    "plt.xlabel('$\\mathrm{redshift}$',fontsize=30)\n",
    "plt.tick_params(labelleft='off')\n",
    "plt.legend(fontsize=20)\n",
    "plt.xlim(.2,1)\n",
    "plt.ylim(0,.5)\n",
    "\n",
    "plt.savefig('Images/red_disk_fraction_best_p_features.png')\n"
   ]
  },
  {
   "cell_type": "markdown",
   "metadata": {},
   "source": [
    "## Set p_cut and SB cut and run all below to generate new red disk fraction vs redshift plot"
   ]
  },
  {
   "cell_type": "code",
   "execution_count": 1,
   "metadata": {
    "collapsed": false
   },
   "outputs": [
    {
     "ename": "NameError",
     "evalue": "name 'hubble_data' is not defined",
     "output_type": "error",
     "traceback": [
      "\u001b[1;31m---------------------------------------------------------------------------\u001b[0m",
      "\u001b[1;31mNameError\u001b[0m                                 Traceback (most recent call last)",
      "\u001b[1;32m<ipython-input-1-cdf235bb79b5>\u001b[0m in \u001b[0;36m<module>\u001b[1;34m()\u001b[0m\n\u001b[0;32m      1\u001b[0m \u001b[0mdisk_cut\u001b[0m \u001b[1;33m=\u001b[0m \u001b[1;36m.5\u001b[0m\u001b[1;33m\u001b[0m\u001b[0m\n\u001b[0;32m      2\u001b[0m \u001b[0msb_cut\u001b[0m\u001b[1;33m=\u001b[0m\u001b[1;36m21.5\u001b[0m\u001b[1;33m\u001b[0m\u001b[0m\n\u001b[1;32m----> 3\u001b[1;33m \u001b[0mSB_cut\u001b[0m \u001b[1;33m=\u001b[0m \u001b[1;33m(\u001b[0m\u001b[0mhubble_data\u001b[0m\u001b[1;33m[\u001b[0m\u001b[1;34m'MU_HI'\u001b[0m\u001b[1;33m]\u001b[0m\u001b[1;33m<\u001b[0m\u001b[0msb_cut\u001b[0m\u001b[1;33m)\u001b[0m\u001b[1;33m\u001b[0m\u001b[0m\n\u001b[0m\u001b[0;32m      4\u001b[0m \u001b[0mreds\u001b[0m\u001b[1;33m=\u001b[0m\u001b[1;33m[\u001b[0m\u001b[1;36m.3\u001b[0m\u001b[1;33m,\u001b[0m\u001b[1;36m.5\u001b[0m\u001b[1;33m,\u001b[0m\u001b[1;36m.7\u001b[0m\u001b[1;33m,\u001b[0m\u001b[1;36m.9\u001b[0m\u001b[1;33m]\u001b[0m\u001b[1;33m\u001b[0m\u001b[0m\n",
      "\u001b[1;31mNameError\u001b[0m: name 'hubble_data' is not defined"
     ]
    }
   ],
   "source": [
    "disk_cut = .5\n",
    "sb_cut=21.5\n",
    "SB_cut = (hubble_data['MU_HI']<sb_cut)\n",
    "reds=[.3,.5,.7,.9]\n"
   ]
  },
  {
   "cell_type": "code",
   "execution_count": null,
   "metadata": {
    "collapsed": false
   },
   "outputs": [],
   "source": [
    "f=figure(figsize=(20,18))\n",
    "#track 'uncorrectable' regions of z/mu/p space (shaded)\n",
    "p_range_uncorrectable_dct={}\n",
    "#track 'correctable regions of z/mu/p space (unshaded *and* at least 5 points in bin) \n",
    "p_range_correctable_dct={}\n",
    "#store range of spread of data in each bin\n",
    "interval_dct={}\n",
    "x_new = np.linspace(0,.95,40)\n",
    "slope_cut=.35\n",
    "\n",
    "red_completion_matrix = np.zeros(shape=(len(xedges)-1,len(yedges)-1))\n",
    "\n",
    "gs=gridspec.GridSpec(len(yedges),len(xedges)+1)\n",
    "gs.update(wspace=0)\n",
    "gs.update(hspace=0)\n",
    "yedge_int=np.linspace(0,len(yedges)-2,len(yedges)-1)\n",
    "yedge_int=[int(y) for y in yedge_int]\n",
    "yedge_int=yedge_int[::-1]\n",
    "x_label=[]\n",
    "facecolors=['#af8dc3','#999999','#7fbf7b']\n",
    "for i in range(0,len(xedges)-1):\n",
    "    x_label.append(round((xedges[i]+xedges[i+1])/2,2))\n",
    "\n",
    "for y in range(0,len(yedges)-1):\n",
    "    for x in range(0,len(xedges)-1):\n",
    "        ax=plt.subplot(gs[yedge_int[y],x])\n",
    "        xs=red_scatter_dct[xedges[x],xedges[x+1],yedges[y],yedges[y+1],'lo']\n",
    "        ys=red_scatter_dct[xedges[x],xedges[x+1],yedges[y],yedges[y+1],'hi']\n",
    "        xs_unc=red_scatter_dct_unc[xedges[x],xedges[x+1],yedges[y],yedges[y+1],'lo']\n",
    "        ys_unc=red_scatter_dct_unc[xedges[x],xedges[x+1],yedges[y],yedges[y+1],'hi']\n",
    "\n",
    "        plt.axhline(disk_cut,ls='dashed',c='k')\n",
    "        plt.axvline(disk_cut,ls='dashed',c='k')\n",
    "        #calculate number of observed disks\n",
    "        disks_observed = sum(i>=disk_cut for i in ys) + sum(i>=disk_cut for i in ys_unc)\n",
    "        disks_actual = sum(i>=disk_cut for i in xs) + sum(i>=disk_cut for i in xs_unc)\n",
    "\n",
    "        red_completion_matrix.T[y,x]=(float(disks_actual)/disks_observed) if len(xs)>10 and disks_observed > 0 else 'nan'\n",
    "\n",
    "        \n",
    "        ax.text(.05,.85,'$\\mathrm{N_{disk,obs}:}$%s'%disks_observed,fontsize=16)\n",
    "        ax.text(.85,.6,'$\\mathrm{N_{disk,act}:}$%s'%disks_actual,rotation=270,fontsize=16)\n",
    "        flat_list=[]\n",
    "        plt.scatter(xs,ys,c='k',edgecolors='gray')\n",
    "        plt.scatter(xs_unc,ys_unc,c='r',edgecolors='gray')\n",
    "\n",
    "        plt.tick_params(labelleft='off')\n",
    "        plt.tick_params(top='off',right='off',labelbottom='off')\n",
    "        plt.xlim(0,1)\n",
    "        plt.ylim(0,1)\n",
    "        if y==0:\n",
    "            plt.xlabel('%s'%str(x_label[x]),fontsize=16)\n",
    "\n",
    "        if x==3:\n",
    "            ax.yaxis.set_label_position(\"right\")\n",
    "            plt.ylabel('%s'%str(yedges[y]),fontsize=16,rotation=270)\n",
    "            ax.yaxis.set_label_coords(1.2, 0)\n",
    "    \n",
    "\n",
    "\n",
    "f.text(.7,.55,r'$\\mathrm{\\mu_{max,i}~(mag/arcsec^2)}$',rotation=270,fontsize=30,va='center')\n",
    "f.text(.38,.91,r'$\\mathrm{redshift}$',fontsize=30,ha='center')\n",
    "f.text(.09,.55,r'$\\mathrm{p_{features}~(measured)}$',rotation=90,fontsize=30,va='center')\n",
    "f.text(.38,.2,r'$\\mathrm{p_{features},z=0.3~(intrinsic)}$',fontsize=30,ha='center')\n",
    "\n",
    "plt.savefig('Images/red_ferengi_corrected_debiased.png')\n",
    "\n"
   ]
  },
  {
   "cell_type": "code",
   "execution_count": null,
   "metadata": {
    "collapsed": false
   },
   "outputs": [],
   "source": [
    "f=figure(figsize=(20,18))\n",
    "interval_dct={}\n",
    "x_new = np.linspace(0,.95,40)\n",
    "slope_cut=.35\n",
    "\n",
    "all_completion_matrix = np.zeros(shape=(len(xedges)-1,len(yedges)-1))\n",
    "\n",
    "gs=gridspec.GridSpec(len(yedges),len(xedges)+1)\n",
    "gs.update(wspace=0)\n",
    "gs.update(hspace=0)\n",
    "yedge_int=np.linspace(0,len(yedges)-2,len(yedges)-1)\n",
    "yedge_int=[int(y) for y in yedge_int]\n",
    "yedge_int=yedge_int[::-1]\n",
    "x_label=[]\n",
    "facecolors=['#af8dc3','#999999','#7fbf7b']\n",
    "for i in range(0,len(xedges)-1):\n",
    "    x_label.append(round((xedges[i]+xedges[i+1])/2,2))\n",
    "\n",
    "for y in range(0,len(yedges)-1):\n",
    "    for x in range(0,len(xedges)-1):\n",
    "        ax=plt.subplot(gs[yedge_int[y],x])\n",
    "        xs=all_scatter_dct[xedges[x],xedges[x+1],yedges[y],yedges[y+1],'lo']\n",
    "        ys=all_scatter_dct[xedges[x],xedges[x+1],yedges[y],yedges[y+1],'hi']\n",
    "        xs_unc=all_scatter_dct_unc[xedges[x],xedges[x+1],yedges[y],yedges[y+1],'lo']\n",
    "        ys_unc=all_scatter_dct_unc[xedges[x],xedges[x+1],yedges[y],yedges[y+1],'hi']\n",
    "\n",
    "        \n",
    "        plt.axhline(disk_cut,ls='dashed',c='k')\n",
    "        plt.axvline(disk_cut,ls='dashed',c='k')\n",
    "        #calculate number of observed disks\n",
    "        disks_observed = sum(i>=disk_cut for i in ys) + sum(i>=disk_cut for i in ys_unc)\n",
    "        disks_actual = sum(i>=disk_cut for i in xs) + sum(i>=disk_cut for i in xs_unc)\n",
    "        all_completion_matrix.T[y,x]=(float(disks_actual)/disks_observed) if len(xs)>10 and disks_observed > 0 else 'nan'\n",
    "\n",
    "        \n",
    "        ax.text(.05,.85,'$\\mathrm{f_{disk,obs}:}$%s'%disks_observed,fontsize=16)\n",
    "        ax.text(.85,.6,'$\\mathrm{f_{disk,act}:}$%s'%disks_actual,rotation=270,fontsize=16)\n",
    "        flat_list=[]\n",
    "        plt.scatter(xs,ys,c='k',edgecolors='gray')\n",
    "        plt.scatter(xs_unc,ys_unc,c='r',edgecolors='gray')\n",
    "\n",
    "        plt.tick_params(labelleft='off')\n",
    "        plt.tick_params(top='off',right='off',labelbottom='off')\n",
    "        plt.xlim(0,1)\n",
    "        plt.ylim(0,1)\n",
    "        if y==0:\n",
    "            plt.xlabel('%s'%str(x_label[x]),fontsize=16)\n",
    "\n",
    "        if x==3:\n",
    "            ax.yaxis.set_label_position(\"right\")\n",
    "            plt.ylabel('%s'%str(yedges[y]),fontsize=16,rotation=270)\n",
    "            ax.yaxis.set_label_coords(1.2, 0)\n",
    "  \n",
    "                \n",
    "\n",
    "\n",
    "f.text(.7,.55,r'$\\mathrm{\\mu_{max,i}~(mag/arcsec^2)}$',rotation=270,fontsize=30,va='center')\n",
    "f.text(.38,.91,r'$\\mathrm{redshift}$',fontsize=30,ha='center')\n",
    "f.text(.09,.55,r'$\\mathrm{p_{features}~(measured)}$',rotation=90,fontsize=30,va='center')\n",
    "f.text(.38,.2,r'$\\mathrm{p_{features},z=0.3~(intrinsic)}$',fontsize=30,ha='center')\n",
    "\n",
    "plt.savefig('Images/all_ferengi_corrected_debiased.png')\n"
   ]
  },
  {
   "cell_type": "code",
   "execution_count": null,
   "metadata": {
    "collapsed": false
   },
   "outputs": [],
   "source": [
    "extent=[xedges[0],xedges[-1],yedges[0],yedges[-1]]\n",
    "cmap=cm.RdPu\n",
    "f=figure(figsize=(15,7))\n",
    "\n",
    "mpl.rcParams['xtick.labelsize'] = 18\n",
    "mpl.rcParams['ytick.labelsize'] = 18 \n",
    "\n",
    "gs=gridspec.GridSpec(1,2)\n",
    "gs.update(wspace=.1)\n",
    "\n",
    "redax=plt.subplot(gs[0,0])\n",
    "plt.imshow(1./red_completion_matrix.T,origin='lower',interpolation='nearest',vmin=0,vmax=1,extent=extent,aspect='auto',cmap=cmap)\n",
    "plt.title('$\\mathrm{red~incompleteness}$',fontsize=16)\n",
    "plt.xlabel('$\\mathrm{redshift}$',fontsize=20)\n",
    "\n",
    "plt.ylabel(r'$\\mathrm{\\mu_{max,i}~(mag/arcsec^2)}$',fontsize=20)\n",
    "plt.colorbar()\n",
    "\n",
    "\n",
    "blueax=plt.subplot(gs[0,1])\n",
    "plt.imshow(1./all_completion_matrix.T,origin='lower',interpolation='nearest',vmin=0,vmax=1,extent=extent,aspect='auto',cmap=cmap)\n",
    "plt.colorbar()\n",
    "plt.title('$\\mathrm{all~incompleteness}$',fontsize=16)\n",
    "plt.xlabel('$\\mathrm{redshift}$',fontsize=20)\n",
    "\n",
    "f.text(.9,.5,r'$\\mathrm{f_{disk,observed}/f_{disk,actual}}$',rotation=270,fontsize=30,va='center')\n"
   ]
  },
  {
   "cell_type": "code",
   "execution_count": null,
   "metadata": {
    "collapsed": false
   },
   "outputs": [],
   "source": [
    "xlabel = '$\\mathrm{redshift}$'\n",
    "ylabel = '$\\mathrm{MU\\_HI~(mag/arcsec^2)}$'\n",
    "\n",
    "red_disks = red_sequence & SB_cut & (hubble_data['t01_smooth_or_features_a02_features_or_disk_best_fraction']>=disk_cut)\n",
    "all_disks = SB_cut & (hubble_data['t01_smooth_or_features_a02_features_or_disk_best_fraction']>=disk_cut)\n",
    "\n",
    "vmin=0\n",
    "vmax=300\n",
    "\n",
    "f=figure(figsize=(20,15))\n",
    "gs=gridspec.GridSpec(2,2)\n",
    "gs.update(wspace=.1)\n",
    "gs.update(hspace=.2)\n",
    "\n",
    "red_hist,xedges1,yedges1=np.histogram2d(hubble_data[red_disks][z],hubble_data[red_disks]['MU_HI'],range=((xedges[0],xedges[-1]),(yedges[0],yedges[-1])),bins=(len(xedges)-1,len(yedges)-1))\n",
    "all_hist,xedges1,yedges1=np.histogram2d(hubble_data[all_disks][z],hubble_data[all_disks]['MU_HI'],range=((xedges[0],xedges[-1]),(yedges[0],yedges[-1])),bins=(len(xedges)-1,len(yedges)-1))\n",
    "#red_hist=np.ma.array(red_hist,mask=np.isnan(red_completion_matrix)==True)\n",
    "#all_hist=np.ma.array(all_hist,mask=np.isnan(red_completion_matrix)==True)\n",
    "\n",
    "\n",
    "extent=[xedges1[0],xedges1[-1],yedges1[0],yedges1[-1]]\n",
    "\n",
    "redax=plt.subplot(gs[0,0])\n",
    "plt.imshow(red_hist.T,origin='lower',interpolation='nearest',extent=extent,aspect='auto',cmap=cm.Blues,vmin=vmin,vmax=vmax)\n",
    "plt.title('$\\mathrm{red~disks~observed}$',fontsize=25)\n",
    "plt.ylabel(ylabel,fontsize=25)\n",
    "plt.xlabel(xlabel,fontsize=25)\n",
    "\n",
    "\n",
    "allax=plt.subplot(gs[0,1])\n",
    "plt.imshow(all_hist.T,origin='lower',interpolation='nearest',extent=extent,aspect='auto',cmap=cm.Blues,vmin=vmin,vmax=vmax)\n",
    "plt.title('$\\mathrm{total~disks~observed}$',fontsize=25)\n",
    "plt.tick_params(labelleft='off')\n",
    "plt.xlabel(xlabel,fontsize=25)\n",
    "plt.colorbar()\n",
    "\n",
    "corrected_red_matrix = red_hist*red_completion_matrix\n",
    "corrected_all_matrix = all_hist*all_completion_matrix\n",
    "corrected_all_matrix=np.ma.array(corrected_all_matrix,mask=np.isnan(red_completion_matrix)==True)\n",
    "\n",
    "\n",
    "\n",
    "redax=plt.subplot(gs[1,0])\n",
    "plt.imshow(corrected_red_matrix.T,origin='lower',interpolation='nearest',extent=extent,aspect='auto',cmap=cm.Blues,vmin=vmin,vmax=vmax)\n",
    "plt.title('$\\mathrm{red~disks~corrected}$',fontsize=25)\n",
    "plt.ylabel(ylabel,fontsize=25)\n",
    "plt.xlabel(xlabel,fontsize=25)\n",
    "\n",
    "\n",
    "allax=plt.subplot(gs[1,1])\n",
    "plt.imshow(corrected_all_matrix.T,origin='lower',interpolation='nearest',extent=extent,aspect='auto',cmap=cm.Blues,vmin=vmin,vmax=vmax)\n",
    "plt.title('$\\mathrm{total~disks~corrected}$',fontsize=25)\n",
    "plt.tick_params(labelleft='off')\n",
    "plt.xlabel(xlabel,fontsize=25)\n",
    "plt.colorbar()\n",
    "\n",
    "\n",
    "f.text(.92,.5,r'$\\mathrm{count}$',rotation=270,fontsize=30,va='center')\n"
   ]
  },
  {
   "cell_type": "code",
   "execution_count": null,
   "metadata": {
    "collapsed": true
   },
   "outputs": [],
   "source": [
    "def red_fraction_list(red_matrix,all_matrix):\n",
    "    c=.95\n",
    "    red_disk_fraction=[]\n",
    "    N_red=[]\n",
    "    N_all=[]\n",
    "    yerr_low=[]\n",
    "    yerr_hi=[]\n",
    "    fraction_matrix = red_matrix/all_matrix\n",
    "    for i in range(0,4):\n",
    "        N_red_disks = np.nansum(red_matrix.T[:,i])\n",
    "        N_all_disks = np.nansum(all_matrix.T[:,i])\n",
    "        frac = N_red_disks/N_all_disks\n",
    "        p_l=dist.beta.ppf((1-c)/2.,N_red_disks+1,N_all_disks-N_red_disks+1)\n",
    "        p_u=dist.beta.ppf(1-(1-c)/2.,N_red_disks+1,N_all_disks-N_red_disks+1)\n",
    "        yerr_low.append(frac-p_l)\n",
    "        yerr_hi.append(p_u-frac)\n",
    "        N_red.append(N_red_disks)\n",
    "        N_all.append(N_all_disks)\n",
    "        red_disk_fraction.append(frac)\n",
    "    \n",
    "    return red_disk_fraction,yerr_low,yerr_hi,N_red,N_all\n"
   ]
  },
  {
   "cell_type": "code",
   "execution_count": null,
   "metadata": {
    "collapsed": false
   },
   "outputs": [],
   "source": [
    "red_fractions_dct[disk_cut,sb_cut]=[]\n",
    "\n",
    "f,yl,yh,Nr,Na=red_fraction_list(red_hist,all_hist)\n",
    "f_c,yl_c,yh_c,Nr_c,Na_c=red_fraction_list(corrected_red_matrix,corrected_all_matrix)\n",
    "\n",
    "red_fractions_dct[disk_cut,sb_cut].append({'fraction':f,'err_lo':yl,'err_hi':yh,'N_red':Nr,'N_all':Na,'fraction_corrected':f_c,'err_lo_corrected':yl_c,'err_hi_corrected':yh_c,'N_red_corrected':Nr_c,'N_all_corrected':Na_c})"
   ]
  },
  {
   "cell_type": "code",
   "execution_count": null,
   "metadata": {
    "collapsed": false
   },
   "outputs": [],
   "source": [
    "plt.errorbar(reds,red_fractions_dct[disk_cut,sb_cut][0]['fraction'],yerr=(red_fractions_dct[disk_cut,sb_cut][0]['err_lo'],red_fractions_dct[disk_cut,sb_cut][0]['err_hi']),c='b',fmt='--o',lw=3,ms=5,label='uncorrected')\n",
    "plt.errorbar(reds,red_fractions_dct[disk_cut,sb_cut][0]['fraction_corrected'],yerr=(red_fractions_dct[disk_cut,sb_cut][0]['err_lo_corrected'],red_fractions_dct[disk_cut,sb_cut][0]['err_hi_corrected']),c='r',fmt='--o',lw=3,ms=5,label='corrected')\n",
    "plt.title('$\\mathrm{p_{features}>%s}$'%disk_cut,fontsize=30)\n",
    "plt.xlim(.2,1)\n",
    "plt.ylim(0,.5)"
   ]
  },
  {
   "cell_type": "code",
   "execution_count": null,
   "metadata": {
    "collapsed": false
   },
   "outputs": [],
   "source": [
    "#red_fractions_dct[.7,21.5]"
   ]
  },
  {
   "cell_type": "code",
   "execution_count": null,
   "metadata": {
    "collapsed": false
   },
   "outputs": [],
   "source": []
  },
  {
   "cell_type": "code",
   "execution_count": null,
   "metadata": {
    "collapsed": false
   },
   "outputs": [],
   "source": []
  },
  {
   "cell_type": "code",
   "execution_count": null,
   "metadata": {
    "collapsed": false
   },
   "outputs": [],
   "source": []
  },
  {
   "cell_type": "code",
   "execution_count": null,
   "metadata": {
    "collapsed": false
   },
   "outputs": [],
   "source": []
  },
  {
   "cell_type": "code",
   "execution_count": null,
   "metadata": {
    "collapsed": false
   },
   "outputs": [],
   "source": []
  },
  {
   "cell_type": "code",
   "execution_count": null,
   "metadata": {
    "collapsed": false
   },
   "outputs": [],
   "source": []
  },
  {
   "cell_type": "code",
   "execution_count": null,
   "metadata": {
    "collapsed": false
   },
   "outputs": [],
   "source": []
  },
  {
   "cell_type": "code",
   "execution_count": null,
   "metadata": {
    "collapsed": true
   },
   "outputs": [],
   "source": [
    "red_disks = red_sequence & SB_cut & (hubble_data['t01_smooth_or_features_a02_features_or_disk_best_fraction']>=disk_cut) & z_range\n",
    "all_disks = SB_cut & (hubble_data['t01_smooth_or_features_a02_features_or_disk_best_fraction']>=disk_cut) & z_range\n"
   ]
  },
  {
   "cell_type": "code",
   "execution_count": null,
   "metadata": {
    "collapsed": false
   },
   "outputs": [],
   "source": [
    "z_range=(hubble_data[z]<=xedges[-1]) & (hubble_data[z]>=xedges[0])"
   ]
  },
  {
   "cell_type": "code",
   "execution_count": null,
   "metadata": {
    "collapsed": false
   },
   "outputs": [],
   "source": [
    "yedges"
   ]
  },
  {
   "cell_type": "code",
   "execution_count": null,
   "metadata": {
    "collapsed": true
   },
   "outputs": [],
   "source": []
  }
 ],
 "metadata": {
  "kernelspec": {
   "display_name": "Python 2",
   "language": "python",
   "name": "python2"
  },
  "language_info": {
   "codemirror_mode": {
    "name": "ipython",
    "version": 2
   },
   "file_extension": ".py",
   "mimetype": "text/x-python",
   "name": "python",
   "nbconvert_exporter": "python",
   "pygments_lexer": "ipython2",
   "version": "2.7.6"
  }
 },
 "nbformat": 4,
 "nbformat_minor": 0
}
